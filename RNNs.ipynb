{
 "cells": [
  {
   "cell_type": "markdown",
   "id": "4ebb2499",
   "metadata": {},
   "source": [
    "## Recurrent Neural Network\n",
    "- shallow (one layer) / deep (an x number of hidden layers)\n",
    "- each node is a simple function with a simple job\n",
    "- pattern matching is done through the connection of many nodes to create one powerful function\n",
    "- this function has an understanding of the data's **sequential nature**\n",
    "    - using feedback loops that form a sense of memory\n",
    "    - the sequential nature accounts for the context (the problem word2vec tackles by exploring the 'sliding window'...)\n",
    "- each node is aware of the output from the other node"
   ]
  },
  {
   "cell_type": "markdown",
   "id": "9e009a2c",
   "metadata": {},
   "source": [
    "### other NLP techniques:\n",
    "1. **TF-IDF**\n",
    "    - uses a multi-million-word dictionary object with frequency count (trained on a given corpus)\n",
    "    - compares the occurence of certain words from a document/sentence and creates a sparse-vector (mostly zeros, with values on the dictionary's 'index' where that specific word occured in the given sentence\n",
    "    - calculates the 'importance' of a given word in a given sentence by comparing the total frequency with inverted frequency count (\"how important is this word in this sentence?\")\n",
    "    - the vectors will be **sparse**\n",
    "    \n",
    "2. **word2vec** \n",
    "    - for each given word in the sentence, based on a window (2,3 or more tokens) calculates a vector\n",
    "    - to represent a given sentence, an average value of all the word vectors is calculated\n",
    "    - the vector of the sentence will be **dense** (shorter, no zeros)\n",
    "    \n",
    "3. **doc2vec**\n",
    "    - a more sophisticated way to calculate sentence/document vector (it doesn't lose information by averaging the value)\n",
    "    - the vector of the sentence will be **dense**"
   ]
  },
  {
   "cell_type": "code",
   "execution_count": 1,
   "id": "6beb4bcf",
   "metadata": {},
   "outputs": [
    {
     "name": "stdout",
     "output_type": "stream",
     "text": [
      "  label  \\\n",
      "0   ham   \n",
      "1   ham   \n",
      "2  spam   \n",
      "3   ham   \n",
      "4   ham   \n",
      "\n",
      "                                                                                                  text  \n",
      "0  Go until jurong point, crazy.. Available only in bugis n great world la e buffet... Cine there g...  \n",
      "1                                                                        Ok lar... Joking wif u oni...  \n",
      "2  Free entry in 2 a wkly comp to win FA Cup final tkts 21st May 2005. Text FA to 87121 to receive ...  \n",
      "3                                                    U dun say so early hor... U c already then say...  \n",
      "4                                        Nah I don't think he goes to usf, he lives around here though  \n",
      "X_train (4459,)\n",
      "(1115,)\n",
      "y_train: (4459,)\n",
      "(1115,)\n"
     ]
    },
    {
     "name": "stderr",
     "output_type": "stream",
     "text": [
      "/home/dkarl/anaconda3/envs/nlp-prep-env/lib/python3.7/site-packages/ipykernel_launcher.py:6: ParserWarning: Falling back to the 'python' engine because the 'c' engine does not support regex separators (separators > 1 char and different from '\\s+' are interpreted as regex); you can avoid this warning by specifying engine='python'.\n",
      "  \n"
     ]
    }
   ],
   "source": [
    "import numpy as np\n",
    "import pandas as pd\n",
    "from sklearn.model_selection import train_test_split\n",
    "pd.set_option('display.max_colwidth', 100)\n",
    "\n",
    "data = pd.read_csv('dataset/SMSSpamCollection.csv', sep='delimiter')\n",
    "messages = pd.DataFrame(columns=['label','text'])\n",
    "messages[['label','text']] = data['v1\\tv2'].str.split('\\t', expand=True)\n",
    "\n",
    "# the labels will be converted from str to int data (less memory consuming)\n",
    "labels = np.where(messages['label'] == 'spam', 1,0)\n",
    "\n",
    "\n",
    "print(messages.head())\n",
    "\n",
    "\n",
    "\n",
    "X_train, X_test, y_train, y_test = train_test_split(\n",
    "    messages['text'],\n",
    "    labels,\n",
    "    test_size=0.2\n",
    ")\n",
    "\n",
    "print(\"X_train\", X_train.shape)\n",
    "print(X_test.shape)\n",
    "print(\"y_train:\", y_train.shape)\n",
    "print(y_test.shape)"
   ]
  },
  {
   "cell_type": "markdown",
   "id": "834c8dac",
   "metadata": {},
   "source": [
    "### preparing data for modelling"
   ]
  },
  {
   "cell_type": "code",
   "execution_count": 2,
   "id": "b4478418",
   "metadata": {},
   "outputs": [],
   "source": [
    "# keras\n",
    "# !conda install keras\n",
    "\n",
    "from keras.preprocessing.text import Tokenizer\n",
    "from keras.preprocessing.sequence import pad_sequences"
   ]
  },
  {
   "cell_type": "code",
   "execution_count": 3,
   "id": "9620f3b1",
   "metadata": {},
   "outputs": [],
   "source": [
    "# initialize and fit the tokenizer\n",
    "    # tokenizer also CLEANS the text\n",
    "tokenizer = Tokenizer()\n",
    "tokenizer.fit_on_texts(X_train)"
   ]
  },
  {
   "cell_type": "code",
   "execution_count": 4,
   "id": "67c2dfc9",
   "metadata": {},
   "outputs": [],
   "source": [
    "### now the tokenizer has built a vocabulary and assign indices to each token\n",
    "### the next thing is to pass each sentence (or a message in our case) to a built-in function \n",
    "    # that converts each token in a text to a unique integer \n",
    "    # (that represents that word in the Tokenizer that we created before) \n",
    "    \n",
    "X_train_seq = tokenizer.texts_to_sequences(X_train)\n",
    "X_test_seq = tokenizer.texts_to_sequences(X_test) \n"
   ]
  },
  {
   "cell_type": "code",
   "execution_count": 5,
   "id": "b320694d",
   "metadata": {},
   "outputs": [
    {
     "data": {
      "text/plain": [
       "[55,\n",
       " 427,\n",
       " 11,\n",
       " 69,\n",
       " 14,\n",
       " 63,\n",
       " 55,\n",
       " 2,\n",
       " 79,\n",
       " 13,\n",
       " 526,\n",
       " 18,\n",
       " 1697,\n",
       " 7,\n",
       " 35,\n",
       " 13,\n",
       " 1698,\n",
       " 159,\n",
       " 2029,\n",
       " 958,\n",
       " 11,\n",
       " 1033,\n",
       " 1457,\n",
       " 1,\n",
       " 677,\n",
       " 11,\n",
       " 959,\n",
       " 7,\n",
       " 550,\n",
       " 3]"
      ]
     },
     "execution_count": 5,
     "metadata": {},
     "output_type": "execute_result"
    }
   ],
   "source": [
    "# now check one sentence:\n",
    "X_train_seq[16]"
   ]
  },
  {
   "cell_type": "markdown",
   "id": "b94f58f4",
   "metadata": {},
   "source": [
    "- the list of integers above represent words that occur in that message\n"
   ]
  },
  {
   "cell_type": "code",
   "execution_count": 6,
   "id": "06784363",
   "metadata": {},
   "outputs": [],
   "source": [
    "# since machine learning models expect the same number of feature for each example they see, \n",
    "# --> each SEQuence has to have the SAME LENGTH \n",
    "# using the pad_sequences built-in KERAS function\n",
    "\n",
    "X_train_seq_padded = pad_sequences(X_train_seq, 50)\n",
    "# the 50 stands for the max length each sequence (sentence/document) should have\n",
    "X_test_seq_padded = pad_sequences(X_test_seq, 50)\n",
    "\n",
    "# if the sentence is not long enough, it will 'pad' zeros until the length is at the specified index (50 in this case)"
   ]
  },
  {
   "cell_type": "code",
   "execution_count": 7,
   "id": "894ca55a",
   "metadata": {},
   "outputs": [
    {
     "data": {
      "text/plain": [
       "array([   0,    0,    0,    0,    0,    0,    0,    0,    0,    0,    0,\n",
       "          0,    0,    0,    0,    0,    0,    0,    0,    0,   55,  427,\n",
       "         11,   69,   14,   63,   55,    2,   79,   13,  526,   18, 1697,\n",
       "          7,   35,   13, 1698,  159, 2029,  958,   11, 1033, 1457,    1,\n",
       "        677,   11,  959,    7,  550,    3], dtype=int32)"
      ]
     },
     "execution_count": 7,
     "metadata": {},
     "output_type": "execute_result"
    }
   ],
   "source": [
    "X_train_seq_padded[16]"
   ]
  },
  {
   "cell_type": "code",
   "execution_count": 8,
   "id": "9dc9cd50",
   "metadata": {},
   "outputs": [
    {
     "name": "stdout",
     "output_type": "stream",
     "text": [
      "(4459, 50)\n",
      "<class 'numpy.ndarray'>\n"
     ]
    }
   ],
   "source": [
    "print(X_train_seq_padded.shape)\n",
    "print(type(X_train_seq_padded))"
   ]
  },
  {
   "cell_type": "markdown",
   "id": "f29c03f3",
   "metadata": {},
   "source": [
    "### Building the model"
   ]
  },
  {
   "cell_type": "code",
   "execution_count": 9,
   "id": "6a5df600",
   "metadata": {},
   "outputs": [],
   "source": [
    "import keras.backend as K\n",
    "from keras.layers import Dense,Embedding,LSTM\n",
    "from keras.models import Sequential "
   ]
  },
  {
   "cell_type": "code",
   "execution_count": 10,
   "id": "1f8aa2bb",
   "metadata": {},
   "outputs": [],
   "source": [
    "def recall_m(y_true, y_pred):\n",
    "    true_positives = K.sum(K.round(K.clip(y_true * y_pred, 0, 1)))\n",
    "    possible_positives = K.sum(K.round(K.clip(y_true, 0, 1)))\n",
    "    \n",
    "    recall = true_positives / (possible_positives + K.epsilon())\n",
    "    return recall\n",
    "\n",
    "\n",
    "def precision_m(y_true, y_pred):\n",
    "    true_positives = K.sum(K.round(K.clip(y_true * y_pred, 0, 1)))\n",
    "    predicted_positives = K.sum(K.round(K.clip(y_pred, 0, 1)))\n",
    "    \n",
    "    precision = true_positives / (predicted_positives + K.epsilon())\n",
    "    return precision\n"
   ]
  },
  {
   "cell_type": "code",
   "execution_count": 11,
   "id": "dde457d9",
   "metadata": {},
   "outputs": [
    {
     "name": "stdout",
     "output_type": "stream",
     "text": [
      "Model: \"sequential\"\n",
      "_________________________________________________________________\n",
      "Layer (type)                 Output Shape              Param #   \n",
      "=================================================================\n",
      "embedding (Embedding)        (None, None, 32)          257344    \n",
      "_________________________________________________________________\n",
      "lstm (LSTM)                  (None, 32)                8320      \n",
      "_________________________________________________________________\n",
      "dense (Dense)                (None, 32)                1056      \n",
      "_________________________________________________________________\n",
      "dense_1 (Dense)              (None, 1)                 33        \n",
      "=================================================================\n",
      "Total params: 266,753\n",
      "Trainable params: 266,753\n",
      "Non-trainable params: 0\n",
      "_________________________________________________________________\n"
     ]
    }
   ],
   "source": [
    "model = Sequential() \n",
    "# building the model means that we add as much layer to the sequential model as we think are needed\n",
    "# sequential means that the output dimensionality of one layer is the input d. of the next layer etc.\n",
    "# the first layer will take the dimensionality (SIZE) of our dataset\n",
    "\n",
    "\n",
    "# Embedding works the same way as word2vec and doc2vec\n",
    "    # ---> vector representations of the text\n",
    "model.add(Embedding(len(tokenizer.index_word)+1, 32))\n",
    "model.add(LSTM(32, dropout=0, recurrent_dropout=0))\n",
    "    # only one number represents the dimensionality of the OUTPUT\n",
    "    # dropout helps with the regularization\n",
    "        # it prevents overfitting by killing the best neurons so the other would learn better\n",
    "# Dense is a fully-connected layer\n",
    "model.add(Dense(32, activation='relu'))\n",
    "model.add(Dense(1, activation='sigmoid'))\n",
    "\n",
    "model.summary()"
   ]
  },
  {
   "cell_type": "code",
   "execution_count": 12,
   "id": "ffc5350b",
   "metadata": {},
   "outputs": [],
   "source": [
    "model.compile(\n",
    "    optimizer = 'adam',\n",
    "    loss = 'binary_crossentropy',\n",
    "    metrics = ['accuracy', precision_m, recall_m]\n",
    ")"
   ]
  },
  {
   "cell_type": "code",
   "execution_count": 13,
   "id": "9611f7be",
   "metadata": {},
   "outputs": [
    {
     "name": "stdout",
     "output_type": "stream",
     "text": [
      "Epoch 1/10\n",
      "140/140 [==============================] - 24s 132ms/step - loss: 0.4270 - accuracy: 0.8727 - precision_m: 0.1433 - recall_m: 0.0986 - val_loss: 0.0530 - val_accuracy: 0.9874 - val_precision_m: 0.9535 - val_recall_m: 0.9065\n",
      "Epoch 2/10\n",
      "140/140 [==============================] - 16s 115ms/step - loss: 0.0446 - accuracy: 0.9899 - precision_m: 0.9760 - recall_m: 0.9406 - val_loss: 0.0270 - val_accuracy: 0.9946 - val_precision_m: 0.9895 - val_recall_m: 0.9749\n",
      "Epoch 3/10\n",
      "140/140 [==============================] - 17s 124ms/step - loss: 0.0171 - accuracy: 0.9962 - precision_m: 0.9855 - recall_m: 0.9840 - val_loss: 0.0308 - val_accuracy: 0.9928 - val_precision_m: 0.9735 - val_recall_m: 0.9781\n",
      "Epoch 4/10\n",
      "140/140 [==============================] - 17s 122ms/step - loss: 0.0052 - accuracy: 0.9984 - precision_m: 0.9861 - recall_m: 0.9888 - val_loss: 0.0297 - val_accuracy: 0.9910 - val_precision_m: 0.9824 - val_recall_m: 0.9511\n",
      "Epoch 5/10\n",
      "140/140 [==============================] - 17s 118ms/step - loss: 0.0022 - accuracy: 0.9997 - precision_m: 0.9940 - recall_m: 0.9912 - val_loss: 0.0400 - val_accuracy: 0.9901 - val_precision_m: 0.9881 - val_recall_m: 0.9247\n",
      "Epoch 6/10\n",
      "140/140 [==============================] - 18s 128ms/step - loss: 7.8253e-04 - accuracy: 1.0000 - precision_m: 0.9808 - recall_m: 0.9808 - val_loss: 0.0399 - val_accuracy: 0.9892 - val_precision_m: 0.9824 - val_recall_m: 0.9233\n",
      "Epoch 7/10\n",
      "140/140 [==============================] - 17s 119ms/step - loss: 3.9077e-04 - accuracy: 1.0000 - precision_m: 0.9889 - recall_m: 0.9889 - val_loss: 0.0467 - val_accuracy: 0.9883 - val_precision_m: 0.9881 - val_recall_m: 0.9130\n",
      "Epoch 8/10\n",
      "140/140 [==============================] - 19s 136ms/step - loss: 1.7201e-04 - accuracy: 1.0000 - precision_m: 0.9955 - recall_m: 0.9955 - val_loss: 0.0476 - val_accuracy: 0.9901 - val_precision_m: 0.9824 - val_recall_m: 0.9328\n",
      "Epoch 9/10\n",
      "140/140 [==============================] - 17s 121ms/step - loss: 1.8110e-04 - accuracy: 1.0000 - precision_m: 0.9754 - recall_m: 0.9754 - val_loss: 0.0516 - val_accuracy: 0.9892 - val_precision_m: 0.9824 - val_recall_m: 0.9233\n",
      "Epoch 10/10\n",
      "140/140 [==============================] - 18s 131ms/step - loss: 7.0853e-05 - accuracy: 1.0000 - precision_m: 0.9930 - recall_m: 0.9930 - val_loss: 0.0533 - val_accuracy: 0.9883 - val_precision_m: 0.9824 - val_recall_m: 0.9162\n"
     ]
    }
   ],
   "source": [
    "history = model.fit(X_train_seq_padded, # training data\n",
    "                    y_train,            # training target\n",
    "                    batch_size=32,      # batch size\n",
    "                    epochs=10,          # the number of epochs\n",
    "                    validation_data=(X_test_seq_padded, y_test))"
   ]
  },
  {
   "cell_type": "code",
   "execution_count": 15,
   "id": "db321115",
   "metadata": {},
   "outputs": [
    {
     "name": "stderr",
     "output_type": "stream",
     "text": [
      "Matplotlib is building the font cache; this may take a moment.\n"
     ]
    },
    {
     "data": {
      "image/png": "[encoded data removed]",
      "text/plain": [
       "<Figure size 432x288 with 1 Axes>"
      ]
     },
     "metadata": {
      "needs_background": "light"
     },
     "output_type": "display_data"
    },
    {
     "data": {
      "image/png": "[encoded data removed]",
      "text/plain": [
       "<Figure size 432x288 with 1 Axes>"
      ]
     },
     "metadata": {
      "needs_background": "light"
     },
     "output_type": "display_data"
    },
    {
     "data": {
      "image/png": "[encoded data removed]",
      "text/plain": [
       "<Figure size 432x288 with 1 Axes>"
      ]
     },
     "metadata": {
      "needs_background": "light"
     },
     "output_type": "display_data"
    }
   ],
   "source": [
    "### visualizing the results data ###\n",
    "%matplotlib inline\n",
    "import matplotlib.pyplot as plt\n",
    "\n",
    "for i in ['accuracy', 'precision_m', 'recall_m']:\n",
    "    acc = history.history[i]\n",
    "    val_acc = history.history['val_{}'.format(i)]\n",
    "    epochs = range(1, len(acc)+1)\n",
    "    \n",
    "    plt.figure()\n",
    "    plt.plot(epochs, acc, label='Training Accuracy')\n",
    "    plt.plot(epochs, val_acc, label='Validation Accuracy')\n",
    "    \n",
    "    plt.title(\"Results for {}\".format(i))\n",
    "    plt.legend()\n",
    "    \n",
    "    plt.show\n"
   ]
  },
  {
   "cell_type": "code",
   "execution_count": null,
   "id": "022f6f7c",
   "metadata": {},
   "outputs": [],
   "source": []
  }
 ],
 "metadata": {
  "kernelspec": {
   "display_name": "Python 3",
   "language": "python",
   "name": "python3"
  },
  "language_info": {
   "codemirror_mode": {
    "name": "ipython",
    "version": 3
   },
   "file_extension": ".py",
   "mimetype": "text/x-python",
   "name": "python",
   "nbconvert_exporter": "python",
   "pygments_lexer": "ipython3",
   "version": "3.7.10"
  }
 },
 "nbformat": 4,
 "nbformat_minor": 5
}
